{
 "cells": [
  {
   "cell_type": "code",
   "execution_count": 10,
   "id": "6ec999bc-ed40-44ae-b3bb-89c45e177120",
   "metadata": {},
   "outputs": [],
   "source": [
    "import pandas as pd\n",
    "import numpy as np\n",
    "import re\n",
    "from sklearn.model_selection import train_test_split\n",
    "import tensorflow as tf\n",
    "from tensorflow.keras.preprocessing.text import Tokenizer\n",
    "from tensorflow.keras.preprocessing.sequence import pad_sequences\n",
    "from tensorflow.keras.models import Sequential\n",
    "from tensorflow.keras.layers import Embedding, LSTM, Dense, Dropout, SpatialDropout1D\n",
    "from tensorflow.keras.utils import to_categorical\n",
    "from tensorflow.keras.callbacks import EarlyStopping\n"
   ]
  },
  {
   "cell_type": "code",
   "execution_count": 11,
   "id": "fdec30b9-9896-4403-af03-4654fc00c924",
   "metadata": {},
   "outputs": [
    {
     "name": "stdout",
     "output_type": "stream",
     "text": [
      "*******************************************************\n",
      "   labels                                               text\n",
      "0       0  fiyat ortalama mouse oymak almak demek standar...\n",
      "1       0  ürün güzel lakin beklemek değil sağ tuş zorlam...\n",
      "2       0  hesap kalite ürün satık memnun site teşekkür e...\n",
      "3       0  aymak mouse kul alıcı iyi kul kolay sol tıklam...\n",
      "4       0  fiyat kalite değerlendirmek güzel ürün laptop ...\n",
      "*******************************************************\n",
      "<class 'pandas.core.frame.DataFrame'>\n",
      "RangeIndex: 243497 entries, 0 to 243496\n",
      "Data columns (total 2 columns):\n",
      " #   Column  Non-Null Count   Dtype \n",
      "---  ------  --------------   ----- \n",
      " 0   labels  243497 non-null  int64 \n",
      " 1   text    243443 non-null  object\n",
      "dtypes: int64(1), object(1)\n",
      "memory usage: 3.7+ MB\n",
      "None\n"
     ]
    }
   ],
   "source": [
    "# Veri setinin yüklenmesi\n",
    "data = pd.read_csv('D:\\\\hepsiS1_colab.csv')\n",
    "\n",
    "print ('*******************************************************')\n",
    "# İlk birkaç satırı görüntüleme\n",
    "print(data.head())\n",
    "print ('*******************************************************')\n",
    "\n",
    "# Veri setinin yapısını inceleme\n",
    "print(data.info())\n"
   ]
  },
  {
   "cell_type": "code",
   "execution_count": 12,
   "id": "91f9adad-0a45-446f-9125-ac4161e24430",
   "metadata": {},
   "outputs": [
    {
     "name": "stdout",
     "output_type": "stream",
     "text": [
      "   labels                                               text\n",
      "0       0  fiyat ortalama mouse oymak almak demek standar...\n",
      "1       0  ürün güzel lakin beklemek değil sağ tuş zorlam...\n",
      "2       0  hesap kalite ürün satık memnun site teşekkür e...\n",
      "3       0  aymak mouse kul alıcı iyi kul kolay sol tıklam...\n",
      "4       0  fiyat kalite değerlendirmek güzel ürün laptop ...\n"
     ]
    }
   ],
   "source": [
    "# NaN değerlerini boş string ile değiştirme\n",
    "data['text'] = data['text'].fillna('')\n",
    "\n",
    "# Temizlenmiş veri setinin ilk birkaç satırını görüntüleme\n",
    "print(data.head())\n"
   ]
  },
  {
   "cell_type": "code",
   "execution_count": 13,
   "id": "8813b0a5-c9bd-469d-bd58-97dbfed903c4",
   "metadata": {},
   "outputs": [],
   "source": [
    "def clean_text(text):\n",
    "    # URL'leri kaldır\n",
    "    text = re.sub(r'http\\S+|www\\S+|https\\S+', '', text, flags=re.MULTILINE)\n",
    "    # İşaretlemeleri kaldır\n",
    "    text = re.sub(r'\\@w+|\\#', '', text)\n",
    "    # Noktalama işaretlerini kaldır\n",
    "    text = re.sub(r'[^A-Za-z0-9ğüşöçİĞÜŞÖÇ\\s]', '', text)\n",
    "    # Küçük harfe çevir\n",
    "    text = text.lower()\n",
    "    return text\n",
    "\n",
    "data['cleaned_text'] = data['text'].apply(clean_text)\n"
   ]
  },
  {
   "cell_type": "code",
   "execution_count": 14,
   "id": "8f01b9df-bf84-4c78-8881-079f04789c50",
   "metadata": {},
   "outputs": [],
   "source": [
    "# Tokenizer tanımlama\n",
    "tokenizer = Tokenizer(num_words=5000, split=' ')\n",
    "tokenizer.fit_on_texts(data['cleaned_text'].values)\n",
    "\n",
    "X = tokenizer.texts_to_sequences(data['cleaned_text'].values)\n",
    "X = pad_sequences(X)\n",
    "\n",
    "# Etiketleri kategorik hale getirme\n",
    "Y = pd.get_dummies(data['labels']).values\n"
   ]
  },
  {
   "cell_type": "code",
   "execution_count": 15,
   "id": "a316e24e-275d-4c2d-9c7e-f7b039ccf925",
   "metadata": {},
   "outputs": [],
   "source": [
    "X_train, X_test, Y_train, Y_test = train_test_split(X, Y, test_size=0.2, random_state=42)\n"
   ]
  },
  {
   "cell_type": "code",
   "execution_count": 16,
   "id": "c7348fa9-fbeb-4767-9d4a-a9efd77063fb",
   "metadata": {},
   "outputs": [
    {
     "name": "stdout",
     "output_type": "stream",
     "text": [
      "Epoch 1/10\n",
      "\u001b[1m2435/2435\u001b[0m \u001b[32m━━━━━━━━━━━━━━━━━━━━\u001b[0m\u001b[37m\u001b[0m \u001b[1m559s\u001b[0m 229ms/step - accuracy: 0.9471 - loss: 0.1667 - val_accuracy: 0.9575 - val_loss: 0.1217\n",
      "Epoch 2/10\n",
      "\u001b[1m2435/2435\u001b[0m \u001b[32m━━━━━━━━━━━━━━━━━━━━\u001b[0m\u001b[37m\u001b[0m \u001b[1m985s\u001b[0m 405ms/step - accuracy: 0.9597 - loss: 0.1151 - val_accuracy: 0.9588 - val_loss: 0.1180\n",
      "Epoch 3/10\n",
      "\u001b[1m2435/2435\u001b[0m \u001b[32m━━━━━━━━━━━━━━━━━━━━\u001b[0m\u001b[37m\u001b[0m \u001b[1m635s\u001b[0m 261ms/step - accuracy: 0.9651 - loss: 0.0991 - val_accuracy: 0.9598 - val_loss: 0.1172\n",
      "Epoch 4/10\n",
      "\u001b[1m2435/2435\u001b[0m \u001b[32m━━━━━━━━━━━━━━━━━━━━\u001b[0m\u001b[37m\u001b[0m \u001b[1m534s\u001b[0m 219ms/step - accuracy: 0.9695 - loss: 0.0889 - val_accuracy: 0.9595 - val_loss: 0.1205\n",
      "Epoch 5/10\n",
      "\u001b[1m2435/2435\u001b[0m \u001b[32m━━━━━━━━━━━━━━━━━━━━\u001b[0m\u001b[37m\u001b[0m \u001b[1m525s\u001b[0m 215ms/step - accuracy: 0.9721 - loss: 0.0818 - val_accuracy: 0.9597 - val_loss: 0.1222\n",
      "Epoch 6/10\n",
      "\u001b[1m2435/2435\u001b[0m \u001b[32m━━━━━━━━━━━━━━━━━━━━\u001b[0m\u001b[37m\u001b[0m \u001b[1m548s\u001b[0m 225ms/step - accuracy: 0.9761 - loss: 0.0717 - val_accuracy: 0.9588 - val_loss: 0.1302\n",
      "Epoch 7/10\n",
      "\u001b[1m2435/2435\u001b[0m \u001b[32m━━━━━━━━━━━━━━━━━━━━\u001b[0m\u001b[37m\u001b[0m \u001b[1m540s\u001b[0m 222ms/step - accuracy: 0.9778 - loss: 0.0654 - val_accuracy: 0.9574 - val_loss: 0.1341\n",
      "Epoch 8/10\n",
      "\u001b[1m2435/2435\u001b[0m \u001b[32m━━━━━━━━━━━━━━━━━━━━\u001b[0m\u001b[37m\u001b[0m \u001b[1m646s\u001b[0m 265ms/step - accuracy: 0.9801 - loss: 0.0597 - val_accuracy: 0.9573 - val_loss: 0.1470\n",
      "Epoch 8: early stopping\n"
     ]
    }
   ],
   "source": [
    "# Modeli oluşturma\n",
    "model = Sequential()\n",
    "model.add(Embedding(5000, 128))\n",
    "model.add(SpatialDropout1D(0.2))\n",
    "model.add(LSTM(100, dropout=0.2, recurrent_dropout=0.2))\n",
    "model.add(Dense(2, activation='softmax'))\n",
    "\n",
    "model.compile(loss='categorical_crossentropy', optimizer='adam', metrics=['accuracy'])\n",
    "\n",
    "# Modeli eğitme\n",
    "early_stopping = EarlyStopping(monitor='val_loss', patience=5, verbose=1)\n",
    "history = model.fit(X_train, Y_train, epochs=10, batch_size=64, validation_split=0.2, callbacks=[early_stopping])\n"
   ]
  },
  {
   "cell_type": "code",
   "execution_count": 19,
   "id": "b7a838a0-29b6-4430-b89c-16fca698b167",
   "metadata": {},
   "outputs": [
    {
     "name": "stdout",
     "output_type": "stream",
     "text": [
      "761/761 - 62s - 81ms/step - accuracy: 0.9583 - loss: 0.1483\n",
      "Test accuracy: 0.9583367705345154\n"
     ]
    }
   ],
   "source": [
    "# Modelin değerlendirilmesi\n",
    "score, acc = model.evaluate(X_test, Y_test, verbose=2, batch_size=64)\n",
    "print(f'Test accuracy: {acc}')\n"
   ]
  },
  {
   "cell_type": "code",
   "execution_count": 24,
   "id": "c66ef53b-a662-4434-95f5-36fb7475c378",
   "metadata": {},
   "outputs": [],
   "source": [
    "# Modeli native Keras formatında kaydetme\n",
    "model.save('review_sentiment.keras')  # .h5 uzantısını kullanmıyoruz\n"
   ]
  },
  {
   "cell_type": "code",
   "execution_count": 25,
   "id": "011b2fbe-46d6-4039-85d2-f72468693b52",
   "metadata": {},
   "outputs": [
    {
     "name": "stderr",
     "output_type": "stream",
     "text": [
      "C:\\Users\\lenovo\\AppData\\Local\\Programs\\Python\\Python312\\Lib\\site-packages\\keras\\src\\saving\\saving_lib.py:576: UserWarning: Skipping variable loading for optimizer 'rmsprop', because it has 8 variables whereas the saved optimizer has 14 variables. \n",
      "  saveable.load_own_variables(weights_store.get(inner_path))\n"
     ]
    },
    {
     "name": "stdout",
     "output_type": "stream",
     "text": [
      "761/761 - 34s - 45ms/step - accuracy: 0.9583 - loss: 0.1483\n",
      "Test accuracy: 0.9583367705345154\n"
     ]
    }
   ],
   "source": [
    "from keras.models import load_model\n",
    "\n",
    "# Modeli yükle\n",
    "loaded_model = load_model('review_sentiment.keras')\n",
    "\n",
    "# Modeli kullanarak tahmin yapabilirsiniz\n",
    "score, acc = loaded_model.evaluate(X_test, Y_test, verbose=2, batch_size=64)\n",
    "print(f'Test accuracy: {acc}')\n"
   ]
  },
  {
   "cell_type": "code",
   "execution_count": null,
   "id": "c86c383e-ec84-4cd2-923a-b58ea9a19849",
   "metadata": {},
   "outputs": [],
   "source": [
    "import re\n",
    "import numpy as np\n",
    "from keras.preprocessing.sequence import pad_sequences\n",
    "\n",
    "# Kullanıcıdan alınan yorum\n",
    "user_input = input(\"Yorumunuzu giriniz: \")\n",
    "\n",
    "# Yorumu temizleme fonksiyonu (örnek olarak)\n",
    "def clean_text(text):\n",
    "    # Burada gerekli temizlik işlemlerini yapabilirsiniz\n",
    "    text = re.sub(r'http\\S+|www\\S+|https\\S+', '', text, flags=re.MULTILINE)  # URL'leri kaldırma\n",
    "    text = re.sub(r'\\@w+|\\#', '', text)  # İşaretlemeleri kaldırma\n",
    "    text = re.sub(r'[^A-Za-zğüşöçİĞÜŞÖÇ\\s]', '', text)  # Noktalama işaretlerini kaldırma\n",
    "    text = text.lower()  # Küçük harfe çevirme\n",
    "    return text\n",
    "\n",
    "# Temizlenmiş metin\n",
    "cleaned_input = clean_text(user_input)\n",
    "\n",
    "# Tokenizer ve padding işlemi (eğitimdekiyle aynı tokenizasyon işlemleri)\n",
    "max_len = 100  # Eğitimde belirlenen maksimum cümle uzunluğu\n",
    "sequence = tokenizer.texts_to_sequences([cleaned_input])\n",
    "padded_sequence = pad_sequences(sequence, maxlen=max_len)\n",
    "\n",
    "# Tahmin yapma\n",
    "prediction = loaded_model.predict(padded_sequence)\n",
    "# Tahmin sonucunu etiketlere dönüştürme (örneğin)\n",
    "labels = ['negatif', 'pozitif']\n",
    "predicted_label = labels[np.argmax(prediction)]\n",
    "\n",
    "print(f\"Yorumun duygusu: {predicted_label}\")\n"
   ]
  },
  {
   "cell_type": "code",
   "execution_count": null,
   "id": "155d1df8-2aa5-4102-beb5-1060936babd8",
   "metadata": {},
   "outputs": [],
   "source": []
  }
 ],
 "metadata": {
  "kernelspec": {
   "display_name": "Python 3 (ipykernel)",
   "language": "python",
   "name": "python3"
  },
  "language_info": {
   "codemirror_mode": {
    "name": "ipython",
    "version": 3
   },
   "file_extension": ".py",
   "mimetype": "text/x-python",
   "name": "python",
   "nbconvert_exporter": "python",
   "pygments_lexer": "ipython3",
   "version": "3.12.4"
  }
 },
 "nbformat": 4,
 "nbformat_minor": 5
}
